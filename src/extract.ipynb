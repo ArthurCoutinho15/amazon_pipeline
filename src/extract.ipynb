{
 "cells": [
  {
   "cell_type": "markdown",
   "id": "cb4c745a",
   "metadata": {
    "vscode": {
     "languageId": "html"
    }
   },
   "source": [
    "<h1>Requests products-by-category</h1>"
   ]
  },
  {
   "cell_type": "code",
   "execution_count": 31,
   "id": "c3a81cbb",
   "metadata": {},
   "outputs": [],
   "source": [
    "import requests\n",
    "import json\n",
    "\n",
    "import requests\n",
    "\n",
    "url = \"https://real-time-amazon-data.p.rapidapi.com/products-by-category\"\n",
    "\n",
    "querystring = {\"category_id\":\"2478868012\",\"page\":\"2\",\"country\":\"US\",\"sort_by\":\"RELEVANCE\",\"product_condition\":\"ALL\",\"is_prime\":\"false\",\"deals_and_discounts\":\"NONE\"}\n",
    "\n",
    "headers = {\n",
    "\t\"x-rapidapi-key\": \"7c104397e4msh6cb34ab38468193p1f14f0jsn0827f2a925e4\",\n",
    "\t\"x-rapidapi-host\": \"real-time-amazon-data.p.rapidapi.com\"\n",
    "}\n",
    "request = requests.get(url, headers=headers, params=querystring)\n",
    "response = request.json()\n",
    "\n",
    "with open('dados_!.json', 'w') as f:\n",
    "    json.dump(response, f, indent=4)\n"
   ]
  },
  {
   "cell_type": "code",
   "execution_count": 33,
   "id": "34576941",
   "metadata": {},
   "outputs": [
    {
     "data": {
      "text/plain": [
       "48"
      ]
     },
     "execution_count": 33,
     "metadata": {},
     "output_type": "execute_result"
    }
   ],
   "source": [
    "import pandas as pd\n",
    "import json\n",
    "\n",
    "# Caminho para o arquivo\n",
    "with open('dados.json', 'r', encoding='utf-8') as f:\n",
    "    data = json.load(f)\n",
    "\n",
    "# Acessa apenas a lista de produtos\n",
    "produtos = data['data']['products']\n",
    "\n",
    "# Transforma em DataFrame\n",
    "df = pd.DataFrame(produtos)\n",
    "len(df)\n"
   ]
  },
  {
   "cell_type": "markdown",
   "id": "40a7c83f",
   "metadata": {},
   "source": [
    "-------------"
   ]
  },
  {
   "cell_type": "markdown",
   "id": "56436619",
   "metadata": {
    "vscode": {
     "languageId": "html"
    }
   },
   "source": [
    "<h1>Requests products-detail</h1>"
   ]
  },
  {
   "cell_type": "code",
   "execution_count": 1,
   "id": "6652a8bb",
   "metadata": {},
   "outputs": [
    {
     "name": "stderr",
     "output_type": "stream",
     "text": [
      "your 131072x1 screen size is bogus. expect trouble\n",
      "25/04/20 21:45:30 WARN Utils: Your hostname, PcArthur resolves to a loopback address: 127.0.1.1; using 172.23.223.44 instead (on interface eth0)\n",
      "25/04/20 21:45:30 WARN Utils: Set SPARK_LOCAL_IP if you need to bind to another address\n",
      "Setting default log level to \"WARN\".\n",
      "To adjust logging level use sc.setLogLevel(newLevel). For SparkR, use setLogLevel(newLevel).\n",
      "25/04/20 21:45:32 WARN NativeCodeLoader: Unable to load native-hadoop library for your platform... using builtin-java classes where applicable\n"
     ]
    },
    {
     "data": {
      "text/html": [
       "\n",
       "            <div>\n",
       "                <p><b>SparkSession - in-memory</b></p>\n",
       "                \n",
       "        <div>\n",
       "            <p><b>SparkContext</b></p>\n",
       "\n",
       "            <p><a href=\"http://172.23.223.44:4040\">Spark UI</a></p>\n",
       "\n",
       "            <dl>\n",
       "              <dt>Version</dt>\n",
       "                <dd><code>v3.5.5</code></dd>\n",
       "              <dt>Master</dt>\n",
       "                <dd><code>local[*]</code></dd>\n",
       "              <dt>AppName</dt>\n",
       "                <dd><code>amazon_pipeline</code></dd>\n",
       "            </dl>\n",
       "        </div>\n",
       "        \n",
       "            </div>\n",
       "        "
      ],
      "text/plain": [
       "<pyspark.sql.session.SparkSession at 0x7fbd1dba2360>"
      ]
     },
     "execution_count": 1,
     "metadata": {},
     "output_type": "execute_result"
    }
   ],
   "source": [
    "from pyspark.sql import SparkSession\n",
    "from pyspark.sql.functions import col, lit, regexp_replace, when\n",
    "\n",
    "\n",
    "spark = SparkSession\\\n",
    "        .builder\\\n",
    "        .master(\"local[*]\")\\\n",
    "        .appName(\"amazon_pipeline\")\\\n",
    "        .getOrCreate()\n",
    "        \n",
    "spark"
   ]
  },
  {
   "cell_type": "code",
   "execution_count": 19,
   "id": "d037d237",
   "metadata": {},
   "outputs": [],
   "source": [
    "import json\n",
    "path = \"/home/arthur/Projetos/amazon_pipeline/data/produtos_1_US.json\"\n",
    "with open(path, \"r\") as f:\n",
    "    raw_data = json.load(f)\n",
    "\n",
    "products = raw_data['data']['products']\n",
    "\n",
    "jsonlines_path = \"/home/arthur/Projetos/amazon_pipeline/data/produtos_1_US_lines.json\"\n",
    "\n",
    "with open(jsonlines_path, 'w') as f:\n",
    "    for product in products:\n",
    "        f.write(json.dumps(product) + '\\n')\n",
    "    "
   ]
  },
  {
   "cell_type": "code",
   "execution_count": 43,
   "id": "892a0b9f",
   "metadata": {},
   "outputs": [
    {
     "name": "stdout",
     "output_type": "stream",
     "text": [
      "+----------+-----------+-----------+--------+--------------------+--------------+--------------+---------------------------+------------------+-------------------+----------------------+--------------------+-------------+-------------------+--------------------+--------------------+--------------------+\n",
      "|      asin|book_format|coupon_text|currency|            delivery|has_variations|product_byline|product_minimum_offer_price|product_num_offers|product_num_ratings|product_original_price|       product_photo|product_price|product_star_rating|       product_title|         product_url|        sales_volume|\n",
      "+----------+-----------+-----------+--------+--------------------+--------------+--------------+---------------------------+------------------+-------------------+----------------------+--------------------+-------------+-------------------+--------------------+--------------------+--------------------+\n",
      "|B09T55NFSR|       NULL|       NULL|     BRL|Receba até Amanhã...|          true|          NULL|                R$ 3.499,00|                 1|              24961|           R$ 3.998,88|https://m.media-a...|  R$ 3.499,00|                4.8|Apple iPhone 13 (...|https://www.amazo...|Mais de 500 compr...|\n",
      "|B0CP6CR795|       NULL|       NULL|     BRL|Receba até Amanhã...|          true|          NULL|                R$ 4.449,00|                 1|               4509|           R$ 5.054,40|https://m.media-a...|  R$ 4.449,00|                4.8|Apple iPhone 15 (...|https://www.amazo...|Mais de 500 compr...|\n",
      "|B0DXR7GNWJ|       NULL|       NULL|     BRL|Frete GRÁTIS sext...|          true|          NULL|                R$ 3.988,75|                 1|                 86|           R$ 4.431,96|https://m.media-a...|  R$ 3.988,75|                4.7|Apple iPhone 16e ...|https://www.amazo...|Mais de 500 compr...|\n",
      "|B09BG1CZ68|       NULL|       NULL|     BRL|Receba até Amanhã...|          true|          NULL|                R$ 2.999,00|                 1|               9181|                  NULL|https://m.media-a...|  R$ 2.999,00|                4.8|Apple iPhone 12 (...|https://www.amazo...|Mais de 500 compr...|\n",
      "|B00CLP06OW|       NULL|       NULL|     BRL|Frete GRÁTIS sext...|          true|          NULL|                R$ 3.997,99|                 1|              11482|           R$ 4.442,20|https://m.media-a...|  R$ 3.997,99|                4.8|Apple iPhone 14 (...|https://www.amazo...|Mais de 500 compr...|\n",
      "+----------+-----------+-----------+--------+--------------------+--------------+--------------+---------------------------+------------------+-------------------+----------------------+--------------------+-------------+-------------------+--------------------+--------------------+--------------------+\n",
      "only showing top 5 rows\n",
      "\n"
     ]
    }
   ],
   "source": [
    "df_br = spark.read.json(\"/home/arthur/Projetos/amazon_pipeline/data/produtos_1_BR_lines.json\")\n",
    "df_br = df_br.drop(\"is_best_seller\", \"is_amazon_choice\", \"is_prime\", \"product_badge\", \"climate_pledge_friendly\")\n",
    "df_br.show(5)"
   ]
  },
  {
   "cell_type": "code",
   "execution_count": 58,
   "id": "829ea46c",
   "metadata": {},
   "outputs": [],
   "source": [
    "df_br = df_br.withColumn(\"product_price\", when(col(\"product_price\").isNull(), 0)\n",
    "                .otherwise(regexp_replace(col(\"product_price\"), f\"[R$ ,]\", \"\").cast(\"float\")))\\\n",
    "        .withColumn(\"product_original_price\", when(col(\"product_original_price\").isNull(), 0)\n",
    "                .otherwise(regexp_replace(col(\"product_original_price\"), f\"[R$ ,]\", \"\").cast(\"float\")))\\\n",
    "        .withColumn(\"product_minimum_offer_price\", when(col(\"product_minimum_offer_price\").isNull(),0)\n",
    "                .otherwise(regexp_replace(col(\"product_minimum_offer_price\"), f\"[$ ,]\", \"\").cast(\"float\")))\\\n",
    "        .withColumn(\"product_star_rating\", col(\"product_star_rating\").cast(\"float\"))\\\n",
    "        .withColumn(\"product_minimum_offers\", col(\"product_star_rating\").cast(\"float\"))\\\n",
    "        .withColumn(\"product_num_offers\", col(\"product_num_offers\").cast(\"float\"))\\\n",
    "        .withColumn(\"product_num_ratings\", col(\"product_num_ratings\").cast(\"float\"))\\\n",
    "        .withColumn(\"country\", lit(\"BR\"))\\\n",
    "        .drop(\"is_best_seller\", \"is_amazon_choice\", \"is_prime\", \"product_badge\", \"climate_pledge_friendly\", \"product_availability\", \"delivery\", \"has_variations\", \"coupon_text\", \"book_format\", \"product_byline\")\\\n",
    "        .filter(col(\"product_title\").startswith(\"Apple iPhone\"))\n"
   ]
  },
  {
   "cell_type": "code",
   "execution_count": 59,
   "id": "712b795c",
   "metadata": {},
   "outputs": [
    {
     "name": "stdout",
     "output_type": "stream",
     "text": [
      "root\n",
      " |-- asin: string (nullable = true)\n",
      " |-- currency: string (nullable = true)\n",
      " |-- product_minimum_offer_price: float (nullable = true)\n",
      " |-- product_num_offers: float (nullable = true)\n",
      " |-- product_num_ratings: float (nullable = true)\n",
      " |-- product_original_price: float (nullable = true)\n",
      " |-- product_photo: string (nullable = true)\n",
      " |-- product_price: float (nullable = true)\n",
      " |-- product_star_rating: float (nullable = true)\n",
      " |-- product_title: string (nullable = true)\n",
      " |-- product_url: string (nullable = true)\n",
      " |-- sales_volume: string (nullable = true)\n",
      " |-- product_minimum_offers: float (nullable = true)\n",
      " |-- country: string (nullable = false)\n",
      "\n"
     ]
    }
   ],
   "source": [
    "df_br.printSchema()"
   ]
  },
  {
   "cell_type": "code",
   "execution_count": 60,
   "id": "49d56143",
   "metadata": {},
   "outputs": [],
   "source": [
    "df = spark.read.json(\"/home/arthur/Projetos/amazon_pipeline/data/produtos_1_US_lines.json\")\n",
    "\n",
    "df = df.withColumn(\"product_price\", when(col(\"product_price\").isNull(), 0)\n",
    "                            .otherwise(regexp_replace(col(\"product_price\"), f\"[$ ,]\", \"\").cast(\"float\")))\\\n",
    "                .withColumn(\"product_original_price\", when(col(\"product_original_price\").isNull(), 0)\n",
    "                            .otherwise(regexp_replace(col(\"product_original_price\"), f\"[$ ,]\", \"\").cast(\"float\")))\\\n",
    "                .withColumn(\"product_minimum_offer_price\", when(col(\"product_minimum_offer_price\").isNull(), 0)\n",
    "                            .otherwise(regexp_replace(col(\"product_minimum_offer_price\"), f\"[$ ,]\", \"\").cast(\"float\")))\\\n",
    "                .withColumn(\"product_star_rating\", col(\"product_star_rating\").cast(\"float\"))\\\n",
    "                .withColumn(\"product_minimum_offers\", col(\"product_star_rating\").cast(\"float\"))\\\n",
    "                .withColumn(\"product_num_offers\", col(\"product_num_offers\").cast(\"float\"))\\\n",
    "                .withColumn(\"product_num_ratings\", col(\"product_num_ratings\").cast(\"float\"))\\\n",
    "                .withColumn(\"country\", lit(f\"US\"))\\\n",
    "                .drop(\"is_best_seller\", \"is_amazon_choice\", \"is_prime\", \"product_badge\", \"climate_pledge_friendly\", \"product_availability\", \"delivery\", \"has_variations\")"
   ]
  },
  {
   "cell_type": "code",
   "execution_count": 61,
   "id": "7e057b81",
   "metadata": {},
   "outputs": [
    {
     "name": "stdout",
     "output_type": "stream",
     "text": [
      "root\n",
      " |-- asin: string (nullable = true)\n",
      " |-- currency: string (nullable = true)\n",
      " |-- product_minimum_offer_price: float (nullable = true)\n",
      " |-- product_num_offers: float (nullable = true)\n",
      " |-- product_num_ratings: float (nullable = true)\n",
      " |-- product_original_price: float (nullable = true)\n",
      " |-- product_photo: string (nullable = true)\n",
      " |-- product_price: float (nullable = true)\n",
      " |-- product_star_rating: float (nullable = true)\n",
      " |-- product_title: string (nullable = true)\n",
      " |-- product_url: string (nullable = true)\n",
      " |-- sales_volume: string (nullable = true)\n",
      " |-- product_minimum_offers: float (nullable = true)\n",
      " |-- country: string (nullable = false)\n",
      "\n"
     ]
    }
   ],
   "source": [
    "df.printSchema()"
   ]
  },
  {
   "cell_type": "code",
   "execution_count": 62,
   "id": "44df948c",
   "metadata": {},
   "outputs": [],
   "source": [
    "df_total = df.unionByName(df_br)\n"
   ]
  },
  {
   "cell_type": "code",
   "execution_count": 63,
   "id": "14be0d73",
   "metadata": {},
   "outputs": [
    {
     "name": "stdout",
     "output_type": "stream",
     "text": [
      "+----------+--------+---------------------------+------------------+-------------------+----------------------+--------------------+-------------+-------------------+--------------------+--------------------+--------------------+----------------------+-------+\n",
      "|      asin|currency|product_minimum_offer_price|product_num_offers|product_num_ratings|product_original_price|       product_photo|product_price|product_star_rating|       product_title|         product_url|        sales_volume|product_minimum_offers|country|\n",
      "+----------+--------+---------------------------+------------------+-------------------+----------------------+--------------------+-------------+-------------------+--------------------+--------------------+--------------------+----------------------+-------+\n",
      "|B0BN733951|     USD|                     300.86|              49.0|             4612.0|                 389.0|https://m.media-a...|        357.8|                4.1|Apple iPhone 14, ...|https://www.amazo...|2K+ bought in pas...|                   4.1|     US|\n",
      "|B09LNP1ZHT|     USD|                     249.86|              40.0|            15650.0|                 339.0|https://m.media-a...|       296.94|                4.0|Apple iPhone 13, ...|https://www.amazo...|3K+ bought in pas...|                   4.0|     US|\n",
      "|B08PP5MSVB|     USD|                     188.74|              57.0|            29801.0|                 249.0|https://m.media-a...|        205.0|                4.1|Apple iPhone 12, ...|https://www.amazo...|3K+ bought in pas...|                   4.1|     US|\n",
      "|B0CRJ13WM7|     USD|                     532.62|               5.0|              340.0|                 579.0|https://m.media-a...|        539.0|                4.2|Apple iPhone 15, ...|https://www.amazo...|1K+ bought in pas...|                   4.2|     US|\n",
      "|B09LP77GDL|     USD|                     333.86|              36.0|             6214.0|                 439.0|https://m.media-a...|       377.72|                4.1|Apple iPhone 13 P...|https://www.amazo...|1K+ bought in pas...|                   4.1|     US|\n",
      "|B08PP43P1V|     USD|                      160.0|              28.0|            15591.0|                 209.0|https://m.media-a...|       179.99|                4.0|Apple iPhone 12 M...|https://www.amazo...|500+ bought in pa...|                   4.0|     US|\n",
      "|B088NQXD8T|     USD|                      96.02|              41.0|            20453.0|                 119.0|https://m.media-a...|        102.0|                4.2|Apple iPhone SE 2...|https://www.amazo...|1K+ bought in pas...|                   4.2|     US|\n",
      "|B07ZPKN6YR|     USD|                      173.0|              51.0|            55719.0|                 222.6|https://m.media-a...|        179.0|                4.2|Apple iPhone 11, ...|https://www.amazo...|2K+ bought in pas...|                   4.2|     US|\n",
      "|B0BGQKY8S9|     USD|                      287.1|               7.0|             1775.0|                 399.0|https://m.media-a...|        330.0|                4.3|Apple iPhone 13, ...|https://www.amazo...|1K+ bought in pas...|                   4.3|     US|\n",
      "|B07P6Y7954|     USD|                     147.94|              38.0|            66122.0|                 165.0|https://m.media-a...|       157.41|                4.4|Apple iPhone XR, ...|https://www.amazo...|1K+ bought in pas...|                   4.4|     US|\n",
      "|B0CMPMY9ZZ|     USD|                     478.99|              40.0|             1355.0|                 539.0|https://m.media-a...|       500.99|                4.2|Apple iPhone 15, ...|https://www.amazo...|1K+ bought in pas...|                   4.2|     US|\n",
      "|B0BYL93774|     USD|                     373.09|               7.0|             1073.0|                 449.0|https://m.media-a...|       409.99|                4.2|Apple iPhone 14, ...|https://www.amazo...|400+ bought in pa...|                   4.2|     US|\n",
      "|B09LKF2RPP|     USD|                     233.86|              22.0|             5508.0|                 299.0|https://m.media-a...|        270.0|                4.0|Apple iPhone 13 M...|https://www.amazo...|500+ bought in pa...|                   4.0|     US|\n",
      "|B0BN9426PP|     USD|                     374.91|              46.0|             2193.0|                   0.0|https://m.media-a...|       404.99|                4.2|Apple iPhone 14 P...|https://www.amazo...|1K+ bought in pas...|                   4.2|     US|\n",
      "|B08PN7ZG7F|     USD|                     274.99|              41.0|            11762.0|                 349.0|https://m.media-a...|       306.42|                4.1|Apple iPhone 12 P...|https://www.amazo...|300+ bought in pa...|                   4.1|     US|\n",
      "|B0BDY71GRG|     USD|                     131.55|              26.0|             2669.0|                   0.0|https://m.media-a...|        158.4|                4.1|Apple iPhone SE 3...|https://www.amazo...|1K+ bought in pas...|                   4.1|     US|\n",
      "|B09T55NFSR|     BRL|                        0.0|               1.0|            24961.0|                   0.0|https://m.media-a...|          0.0|                4.8|Apple iPhone 13 (...|https://www.amazo...|Mais de 500 compr...|                   4.8|     BR|\n",
      "|B0CP6CR795|     BRL|                        0.0|               1.0|             4509.0|                   0.0|https://m.media-a...|          0.0|                4.8|Apple iPhone 15 (...|https://www.amazo...|Mais de 500 compr...|                   4.8|     BR|\n",
      "|B0DXR7GNWJ|     BRL|                        0.0|               1.0|               86.0|                   0.0|https://m.media-a...|          0.0|                4.7|Apple iPhone 16e ...|https://www.amazo...|Mais de 500 compr...|                   4.7|     BR|\n",
      "|B09BG1CZ68|     BRL|                        0.0|               1.0|             9181.0|                   0.0|https://m.media-a...|          0.0|                4.8|Apple iPhone 12 (...|https://www.amazo...|Mais de 500 compr...|                   4.8|     BR|\n",
      "+----------+--------+---------------------------+------------------+-------------------+----------------------+--------------------+-------------+-------------------+--------------------+--------------------+--------------------+----------------------+-------+\n",
      "only showing top 20 rows\n",
      "\n"
     ]
    }
   ],
   "source": [
    "df_total.show()"
   ]
  },
  {
   "cell_type": "code",
   "execution_count": null,
   "id": "b1ad0e24",
   "metadata": {},
   "outputs": [],
   "source": []
  }
 ],
 "metadata": {
  "kernelspec": {
   "display_name": "venv",
   "language": "python",
   "name": "python3"
  },
  "language_info": {
   "codemirror_mode": {
    "name": "ipython",
    "version": 3
   },
   "file_extension": ".py",
   "mimetype": "text/x-python",
   "name": "python",
   "nbconvert_exporter": "python",
   "pygments_lexer": "ipython3",
   "version": "3.12.3"
  }
 },
 "nbformat": 4,
 "nbformat_minor": 5
}
