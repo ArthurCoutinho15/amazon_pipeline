{
 "cells": [
  {
   "cell_type": "code",
   "execution_count": 10,
   "metadata": {},
   "outputs": [
    {
     "name": "stdout",
     "output_type": "stream",
     "text": [
      "✅ Conexão bem-sucedida com o MongoDB no Windows!\n"
     ]
    }
   ],
   "source": [
    "from pymongo import MongoClient\n",
    "\n",
    "# Use o IP que você obteve (172.23.208.1)\n",
    "uri = \"mongodb://172.23.208.1:27017/\"\n",
    "\n",
    "client = MongoClient(uri)\n",
    "try:\n",
    "    client.admin.command('ping')\n",
    "    print('✅ Conexão bem-sucedida com o MongoDB no Windows!')\n",
    "except Exception as e:\n",
    "    print('❌ Erro:', e)"
   ]
  },
  {
   "cell_type": "markdown",
   "id": "cb4c745a",
   "metadata": {
    "vscode": {
     "languageId": "html"
    }
   },
   "source": [
    "<h1>Requests products-by-category</h1>"
   ]
  },
  {
   "cell_type": "code",
   "execution_count": 31,
   "id": "c3a81cbb",
   "metadata": {},
   "outputs": [],
   "source": [
    "import requests\n",
    "import json\n",
    "\n",
    "import requests\n",
    "\n",
    "url = \"https://real-time-amazon-data.p.rapidapi.com/products-by-category\"\n",
    "\n",
    "querystring = {\"category_id\":\"2478868012\",\"page\":\"2\",\"country\":\"US\",\"sort_by\":\"RELEVANCE\",\"product_condition\":\"ALL\",\"is_prime\":\"false\",\"deals_and_discounts\":\"NONE\"}\n",
    "\n",
    "headers = {\n",
    "\t\"x-rapidapi-key\": \"7c104397e4msh6cb34ab38468193p1f14f0jsn0827f2a925e4\",\n",
    "\t\"x-rapidapi-host\": \"real-time-amazon-data.p.rapidapi.com\"\n",
    "}\n",
    "request = requests.get(url, headers=headers, params=querystring)\n",
    "response = request.json()\n",
    "\n",
    "with open('dados_!.json', 'w') as f:\n",
    "    json.dump(response, f, indent=4)\n"
   ]
  },
  {
   "cell_type": "code",
   "execution_count": 33,
   "id": "34576941",
   "metadata": {},
   "outputs": [
    {
     "data": {
      "text/plain": [
       "48"
      ]
     },
     "execution_count": 33,
     "metadata": {},
     "output_type": "execute_result"
    }
   ],
   "source": [
    "import pandas as pd\n",
    "import json\n",
    "\n",
    "# Caminho para o arquivo\n",
    "with open('dados.json', 'r', encoding='utf-8') as f:\n",
    "    data = json.load(f)\n",
    "\n",
    "# Acessa apenas a lista de produtos\n",
    "produtos = data['data']['products']\n",
    "\n",
    "# Transforma em DataFrame\n",
    "df = pd.DataFrame(produtos)\n",
    "len(df)\n"
   ]
  },
  {
   "cell_type": "markdown",
   "id": "40a7c83f",
   "metadata": {},
   "source": [
    "-------------"
   ]
  },
  {
   "cell_type": "markdown",
   "id": "56436619",
   "metadata": {
    "vscode": {
     "languageId": "html"
    }
   },
   "source": [
    "<h1>Requests products-detail</h1>"
   ]
  },
  {
   "cell_type": "code",
   "execution_count": 37,
   "id": "960dc07b",
   "metadata": {},
   "outputs": [],
   "source": [
    "import requests\n",
    "\n",
    "url = \"https://real-time-amazon-data.p.rapidapi.com/product-details\"\n",
    "\n",
    "querystring = {\"asin\":\"B0DFMZMKFJ\",\"country\":\"US\"}\n",
    "\n",
    "headers = {\n",
    "\t\"x-rapidapi-key\": \"7c104397e4msh6cb34ab38468193p1f14f0jsn0827f2a925e4\",\n",
    "\t\"x-rapidapi-host\": \"real-time-amazon-data.p.rapidapi.com\"\n",
    "}\n",
    "\n",
    "request = requests.get(url, headers=headers, params=querystring)\n",
    "response = request.json()\n",
    "\n",
    "with open('detalhes.json', 'w') as f:\n",
    "    json.dump(response, f, indent=4)\n"
   ]
  },
  {
   "cell_type": "code",
   "execution_count": null,
   "id": "69ff58dd",
   "metadata": {},
   "outputs": [],
   "source": [
    "import requests\n",
    "\n",
    "url = \"https://real-time-amazon-data.p.rapidapi.com/product-reviews\"\n",
    "\n",
    "querystring = {\"asin\":\"B0DFMZMKFJ\",\"country\":\"US\",\"page\":\"1\",\"sort_by\":\"TOP_REVIEWS\",\"star_rating\":\"ALL\",\"verified_purchases_only\":\"false\",\"images_or_videos_only\":\"false\",\"current_format_only\":\"false\"}\n",
    "\n",
    "headers = {\n",
    "\t\"x-rapidapi-key\": \"7c104397e4msh6cb34ab38468193p1f14f0jsn0827f2a925e4\",\n",
    "\t\"x-rapidapi-host\": \"real-time-amazon-data.p.rapidapi.com\"\n",
    "}\n",
    "\n",
    "request = requests.get(url, headers=headers, params=querystring)\n",
    "response = request.json()\n",
    "\n",
    "with open('reviews.json', 'w') as f:\n",
    "    json.dump(response, f, indent=4)"
   ]
  }
 ],
 "metadata": {
  "kernelspec": {
   "display_name": "venv",
   "language": "python",
   "name": "python3"
  },
  "language_info": {
   "codemirror_mode": {
    "name": "ipython",
    "version": 3
   },
   "file_extension": ".py",
   "mimetype": "text/x-python",
   "name": "python",
   "nbconvert_exporter": "python",
   "pygments_lexer": "ipython3",
   "version": "3.12.3"
  }
 },
 "nbformat": 4,
 "nbformat_minor": 5
}
