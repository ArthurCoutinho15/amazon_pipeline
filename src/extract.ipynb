{
 "cells": [
  {
   "cell_type": "markdown",
   "id": "cb4c745a",
   "metadata": {
    "vscode": {
     "languageId": "html"
    }
   },
   "source": [
    "<h1>Requests products-by-category</h1>"
   ]
  },
  {
   "cell_type": "code",
   "execution_count": 31,
   "id": "c3a81cbb",
   "metadata": {},
   "outputs": [],
   "source": [
    "import requests\n",
    "import json\n",
    "\n",
    "import requests\n",
    "\n",
    "url = \"https://real-time-amazon-data.p.rapidapi.com/products-by-category\"\n",
    "\n",
    "querystring = {\"category_id\":\"2478868012\",\"page\":\"2\",\"country\":\"US\",\"sort_by\":\"RELEVANCE\",\"product_condition\":\"ALL\",\"is_prime\":\"false\",\"deals_and_discounts\":\"NONE\"}\n",
    "\n",
    "headers = {\n",
    "\t\"x-rapidapi-key\": \"7c104397e4msh6cb34ab38468193p1f14f0jsn0827f2a925e4\",\n",
    "\t\"x-rapidapi-host\": \"real-time-amazon-data.p.rapidapi.com\"\n",
    "}\n",
    "request = requests.get(url, headers=headers, params=querystring)\n",
    "response = request.json()\n",
    "\n",
    "with open('dados_!.json', 'w') as f:\n",
    "    json.dump(response, f, indent=4)\n"
   ]
  },
  {
   "cell_type": "code",
   "execution_count": 33,
   "id": "34576941",
   "metadata": {},
   "outputs": [
    {
     "data": {
      "text/plain": [
       "48"
      ]
     },
     "execution_count": 33,
     "metadata": {},
     "output_type": "execute_result"
    }
   ],
   "source": [
    "import pandas as pd\n",
    "import json\n",
    "\n",
    "# Caminho para o arquivo\n",
    "with open('dados.json', 'r', encoding='utf-8') as f:\n",
    "    data = json.load(f)\n",
    "\n",
    "# Acessa apenas a lista de produtos\n",
    "produtos = data['data']['products']\n",
    "\n",
    "# Transforma em DataFrame\n",
    "df = pd.DataFrame(produtos)\n",
    "len(df)\n"
   ]
  },
  {
   "cell_type": "markdown",
   "id": "40a7c83f",
   "metadata": {},
   "source": [
    "-------------"
   ]
  },
  {
   "cell_type": "markdown",
   "id": "56436619",
   "metadata": {
    "vscode": {
     "languageId": "html"
    }
   },
   "source": [
    "<h1>Requests products-detail</h1>"
   ]
  },
  {
   "cell_type": "code",
   "execution_count": 1,
   "id": "6652a8bb",
   "metadata": {},
   "outputs": [
    {
     "name": "stderr",
     "output_type": "stream",
     "text": [
      "your 131072x1 screen size is bogus. expect trouble\n",
      "25/04/20 00:35:28 WARN Utils: Your hostname, PcArthur resolves to a loopback address: 127.0.1.1; using 172.23.223.44 instead (on interface eth0)\n",
      "25/04/20 00:35:28 WARN Utils: Set SPARK_LOCAL_IP if you need to bind to another address\n",
      "Setting default log level to \"WARN\".\n",
      "To adjust logging level use sc.setLogLevel(newLevel). For SparkR, use setLogLevel(newLevel).\n",
      "25/04/20 00:35:30 WARN NativeCodeLoader: Unable to load native-hadoop library for your platform... using builtin-java classes where applicable\n"
     ]
    },
    {
     "data": {
      "text/html": [
       "\n",
       "            <div>\n",
       "                <p><b>SparkSession - in-memory</b></p>\n",
       "                \n",
       "        <div>\n",
       "            <p><b>SparkContext</b></p>\n",
       "\n",
       "            <p><a href=\"http://172.23.223.44:4040\">Spark UI</a></p>\n",
       "\n",
       "            <dl>\n",
       "              <dt>Version</dt>\n",
       "                <dd><code>v3.5.5</code></dd>\n",
       "              <dt>Master</dt>\n",
       "                <dd><code>local[*]</code></dd>\n",
       "              <dt>AppName</dt>\n",
       "                <dd><code>amazon_pipeline</code></dd>\n",
       "            </dl>\n",
       "        </div>\n",
       "        \n",
       "            </div>\n",
       "        "
      ],
      "text/plain": [
       "<pyspark.sql.session.SparkSession at 0x7f459c5c6960>"
      ]
     },
     "execution_count": 1,
     "metadata": {},
     "output_type": "execute_result"
    }
   ],
   "source": [
    "from pyspark.sql import SparkSession\n",
    "from pyspark.sql.functions import col, lit, regexp_replace, when\n",
    "\n",
    "\n",
    "spark = SparkSession\\\n",
    "        .builder\\\n",
    "        .master(\"local[*]\")\\\n",
    "        .appName(\"amazon_pipeline\")\\\n",
    "        .getOrCreate()\n",
    "        \n",
    "spark"
   ]
  },
  {
   "cell_type": "code",
   "execution_count": 19,
   "id": "d037d237",
   "metadata": {},
   "outputs": [],
   "source": [
    "import json\n",
    "path = \"/home/arthur/Projetos/amazon_pipeline/data/produtos_1_US.json\"\n",
    "with open(path, \"r\") as f:\n",
    "    raw_data = json.load(f)\n",
    "\n",
    "products = raw_data['data']['products']\n",
    "\n",
    "jsonlines_path = \"/home/arthur/Projetos/amazon_pipeline/data/produtos_1_US_lines.json\"\n",
    "\n",
    "with open(jsonlines_path, 'w') as f:\n",
    "    for product in products:\n",
    "        f.write(json.dumps(product) + '\\n')\n",
    "    "
   ]
  },
  {
   "cell_type": "code",
   "execution_count": 2,
   "id": "892a0b9f",
   "metadata": {},
   "outputs": [
    {
     "name": "stdout",
     "output_type": "stream",
     "text": [
      "root\n",
      " |-- asin: string (nullable = true)\n",
      " |-- book_format: string (nullable = true)\n",
      " |-- coupon_text: string (nullable = true)\n",
      " |-- currency: string (nullable = true)\n",
      " |-- delivery: string (nullable = true)\n",
      " |-- has_variations: boolean (nullable = true)\n",
      " |-- product_byline: string (nullable = true)\n",
      " |-- product_minimum_offer_price: string (nullable = true)\n",
      " |-- product_num_offers: long (nullable = true)\n",
      " |-- product_num_ratings: long (nullable = true)\n",
      " |-- product_original_price: string (nullable = true)\n",
      " |-- product_photo: string (nullable = true)\n",
      " |-- product_price: string (nullable = true)\n",
      " |-- product_star_rating: string (nullable = true)\n",
      " |-- product_title: string (nullable = true)\n",
      " |-- product_url: string (nullable = true)\n",
      " |-- sales_volume: string (nullable = true)\n",
      "\n"
     ]
    }
   ],
   "source": [
    "df_br = spark.read.json(\"/home/arthur/Projetos/amazon_pipeline/data/produtos_1_BR_lines.json\")\n",
    "df_br = df_br.drop(\"is_best_seller\", \"is_amazon_choice\", \"is_prime\", \"product_badge\", \"climate_pledge_friendly\")\n",
    "df_br.printSchema()"
   ]
  },
  {
   "cell_type": "code",
   "execution_count": 8,
   "id": "829ea46c",
   "metadata": {},
   "outputs": [],
   "source": [
    "df_us = spark.read.json(\"/home/arthur/Projetos/amazon_pipeline/data/produtos_1_US_lines.json\")\n",
    "df_us = df_us.withColumn(\"product_price\", regexp_replace(col(\"product_price\"), f\"[$ ,]\", \"\").cast(\"float\"))\\\n",
    "        .drop(\"is_best_seller\", \"is_amazon_choice\", \"is_prime\", \"product_badge\", \"climate_pledge_friendly\")\n"
   ]
  },
  {
   "cell_type": "code",
   "execution_count": 11,
   "id": "c33a0dbd",
   "metadata": {},
   "outputs": [
    {
     "name": "stdout",
     "output_type": "stream",
     "text": [
      "+----------+--------+--------------------+--------------+--------------------+---------------------------+------------------+-------------------+----------------------+--------------------+-------------+-------------------+--------------------+--------------------+--------------------+\n",
      "|      asin|currency|            delivery|has_variations|product_availability|product_minimum_offer_price|product_num_offers|product_num_ratings|product_original_price|       product_photo|product_price|product_star_rating|       product_title|         product_url|        sales_volume|\n",
      "+----------+--------+--------------------+--------------+--------------------+---------------------------+------------------+-------------------+----------------------+--------------------+-------------+-------------------+--------------------+--------------------+--------------------+\n",
      "|B0BN733951|     USD|FREE delivery Thu...|          true|                NULL|                    $300.86|                49|               4612|               $389.00|https://m.media-a...|        357.8|                4.1|Apple iPhone 14, ...|https://www.amazo...|2K+ bought in pas...|\n",
      "|B09LNP1ZHT|     USD|FREE delivery Tue...|          true|                NULL|                    $249.86|                40|              15650|               $339.00|https://m.media-a...|       296.94|                  4|Apple iPhone 13, ...|https://www.amazo...|3K+ bought in pas...|\n",
      "|B08PP5MSVB|     USD|FREE delivery Tue...|          true|                NULL|                    $188.74|                57|              29801|               $249.00|https://m.media-a...|        205.0|                4.1|Apple iPhone 12, ...|https://www.amazo...|3K+ bought in pas...|\n",
      "|B0CRJ13WM7|     USD|FREE delivery Apr...|          true|                NULL|                    $532.62|                 5|                340|               $579.00|https://m.media-a...|        539.0|                4.2|Apple iPhone 15, ...|https://www.amazo...|1K+ bought in pas...|\n",
      "|B09LP77GDL|     USD|FREE delivery Wed...|          true|                NULL|                    $333.86|                36|               6214|               $439.00|https://m.media-a...|       377.72|                4.1|Apple iPhone 13 P...|https://www.amazo...|1K+ bought in pas...|\n",
      "+----------+--------+--------------------+--------------+--------------------+---------------------------+------------------+-------------------+----------------------+--------------------+-------------+-------------------+--------------------+--------------------+--------------------+\n",
      "only showing top 5 rows\n",
      "\n"
     ]
    }
   ],
   "source": [
    "df_us.show(5)"
   ]
  },
  {
   "cell_type": "code",
   "execution_count": 9,
   "id": "712b795c",
   "metadata": {},
   "outputs": [
    {
     "name": "stdout",
     "output_type": "stream",
     "text": [
      "root\n",
      " |-- asin: string (nullable = true)\n",
      " |-- currency: string (nullable = true)\n",
      " |-- delivery: string (nullable = true)\n",
      " |-- has_variations: boolean (nullable = true)\n",
      " |-- product_availability: string (nullable = true)\n",
      " |-- product_minimum_offer_price: string (nullable = true)\n",
      " |-- product_num_offers: long (nullable = true)\n",
      " |-- product_num_ratings: long (nullable = true)\n",
      " |-- product_original_price: string (nullable = true)\n",
      " |-- product_photo: string (nullable = true)\n",
      " |-- product_price: float (nullable = true)\n",
      " |-- product_star_rating: string (nullable = true)\n",
      " |-- product_title: string (nullable = true)\n",
      " |-- product_url: string (nullable = true)\n",
      " |-- sales_volume: string (nullable = true)\n",
      "\n"
     ]
    }
   ],
   "source": [
    "df_us.printSchema()"
   ]
  }
 ],
 "metadata": {
  "kernelspec": {
   "display_name": "venv",
   "language": "python",
   "name": "python3"
  },
  "language_info": {
   "codemirror_mode": {
    "name": "ipython",
    "version": 3
   },
   "file_extension": ".py",
   "mimetype": "text/x-python",
   "name": "python",
   "nbconvert_exporter": "python",
   "pygments_lexer": "ipython3",
   "version": "3.12.3"
  }
 },
 "nbformat": 4,
 "nbformat_minor": 5
}
